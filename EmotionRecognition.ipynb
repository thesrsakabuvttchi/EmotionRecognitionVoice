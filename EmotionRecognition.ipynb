{
  "cells": [
    {
      "cell_type": "code",
      "execution_count": null,
      "metadata": {
        "id": "vmeCN4Q1lztR"
      },
      "outputs": [],
      "source": []
    },
    {
      "cell_type": "code",
      "execution_count": null,
      "metadata": {
        "colab": {
          "base_uri": "https://localhost:8080/"
        },
        "id": "nIUElKN0-acj",
        "outputId": "bfe7bdf0-c1de-46e5-e7a0-b1393c05cc81"
      },
      "outputs": [
        {
          "output_type": "stream",
          "name": "stdout",
          "text": [
            "Drive already mounted at /content/drive; to attempt to forcibly remount, call drive.mount(\"/content/drive\", force_remount=True).\n"
          ]
        }
      ],
      "source": [
        "from google.colab import drive\n",
        "drive.mount('/content/drive')"
      ]
    },
    {
      "cell_type": "code",
      "execution_count": null,
      "metadata": {
        "colab": {
          "base_uri": "https://localhost:8080/"
        },
        "id": "hEyEiuqw-cLO",
        "outputId": "f26c7ec5-fcec-440c-ced9-d42390258fb7"
      },
      "outputs": [
        {
          "output_type": "stream",
          "name": "stdout",
          "text": [
            "/content/drive/MyDrive\n"
          ]
        }
      ],
      "source": [
        "%cd /content/drive/MyDrive"
      ]
    },
    {
      "cell_type": "code",
      "execution_count": null,
      "metadata": {
        "id": "u42kmtFM-9uN"
      },
      "outputs": [],
      "source": [
        "import soundfile\n",
        "import numpy as np\n",
        "import pandas as pd\n",
        "import librosa\n",
        "import glob\n",
        "import os\n",
        "import pickle\n",
        "from sklearn.model_selection import train_test_split\n",
        "from sklearn.neural_network import MLPClassifier\n",
        "from sklearn.metrics import accuracy_score"
      ]
    },
    {
      "cell_type": "code",
      "execution_count": null,
      "metadata": {
        "id": "YOfozQ50A3gZ"
      },
      "outputs": [],
      "source": [
        "def trim_to_3sec(audio,sample_rate):\n",
        "  max_length = sample_rate*3\n",
        "  return(audio[:max_length])\n",
        "\n",
        "def pad_to_3sec(audio,sample_rate):\n",
        "  min_length = sample_rate*3\n",
        "  requ_padding = min_length - len(audio)\n",
        "  return(np.append(audio,np.zeros(requ_padding)))\n",
        "\n",
        "def normalize(audio):\n",
        "  return(audio * (1/max(audio)))\n",
        "\n",
        "def extract_feature(file_name):\n",
        "  #Read the sound file\n",
        "    with soundfile.SoundFile(file_name) as sound_file:\n",
        "        X,sample_rate = librosa.load(file_name)\n",
        "        # X = sound_file.read(dtype=\"float32\")\n",
        "        X  = X[:,0] if len(X.shape)>1 else X\n",
        "        normalize(X)\n",
        "        # sample_rate = sound_file.samplerate\n",
        "\n",
        "  #Prepare the file to the required length\n",
        "        if(len(X)>3*sample_rate):\n",
        "          X = trim_to_3sec(X,sample_rate)\n",
        "        elif(len(X)<3*sample_rate):\n",
        "          X = pad_to_3sec(X,sample_rate)\n",
        "  #Extract the feature from the raw audio\n",
        "    mfccs = (librosa.feature.mfcc(y=X, sr=sample_rate, n_mfcc=20).T).flatten()\n",
        "    return(mfccs)"
      ]
    },
    {
      "cell_type": "code",
      "execution_count": null,
      "metadata": {
        "id": "SlGd7RiLBHvz"
      },
      "outputs": [],
      "source": [
        "EMOTION_MAP = {\n",
        "    \"neutral\" : 1,\n",
        "    \"calm\" : 2,\n",
        "    \"happy\" : 3,\n",
        "    \"sad\" : 4,\n",
        "    \"angry\" : 5,\n",
        "    \"fear\" : 6,\n",
        "    \"disgust\" : 7,\n",
        "    \"ps\" : 8 #surprise\n",
        "    }"
      ]
    },
    {
      "cell_type": "code",
      "execution_count": null,
      "metadata": {
        "id": "b6dFhh1eE-gN"
      },
      "outputs": [],
      "source": [
        "def load_data(test_size=0.2):\n",
        "  X, y = [], []\n",
        "  df  = pd.read_csv(\"/content/drive/MyDrive/Data/index.csv\")\n",
        "  X = [extract_feature(i) for i in df['Filepath']]\n",
        "  y = [i-1 for i in df['Emotion']]\n",
        "  return(train_test_split(np.array(X), np.array(y), test_size=test_size, random_state=7))"
      ]
    },
    {
      "cell_type": "code",
      "execution_count": null,
      "metadata": {
        "id": "jLMImS1OEODb"
      },
      "outputs": [],
      "source": [
        "X_train, X_test, y_train, y_test = load_data(test_size=0.25)"
      ]
    },
    {
      "cell_type": "code",
      "source": [
        "import keras\n",
        "from keras.preprocessing import sequence\n",
        "from keras.models import Sequential\n",
        "from keras.layers import Dense, Embedding\n",
        "from keras.layers import LSTM\n",
        "from keras.preprocessing.text import Tokenizer\n",
        "from keras.utils import to_categorical\n",
        "from keras.layers import Input, Flatten, Dropout, Activation\n",
        "from keras.layers import Conv1D, MaxPooling1D, AveragePooling1D\n",
        "from keras.models import Model\n",
        "from keras.callbacks import ModelCheckpoint\n",
        "from sklearn.metrics import confusion_matrix\n",
        "\n",
        "model = Sequential()\n",
        "\n",
        "model.add(Conv1D(128, 5,padding='same',\n",
        "                 input_shape=(2600,1)))\n",
        "model.add(Activation('relu'))\n",
        "model.add(Dropout(0.1))\n",
        "model.add(MaxPooling1D(pool_size=(8)))\n",
        "model.add(Conv1D(128, 5,padding='same',))\n",
        "model.add(Activation('relu'))\n",
        "model.add(Dropout(0.1))\n",
        "model.add(Flatten())\n",
        "model.add(Dense(8))\n",
        "model.add(Activation('softmax'))\n",
        "opt = keras.optimizers.RMSprop(learning_rate=0.00005, rho=0.9, epsilon=None, decay=0.0)"
      ],
      "metadata": {
        "id": "WRBwyeHQ4O8V"
      },
      "execution_count": null,
      "outputs": []
    },
    {
      "cell_type": "code",
      "source": [
        "model.compile(loss='categorical_crossentropy',\n",
        "              optimizer=opt,\n",
        "              metrics=['accuracy'])"
      ],
      "metadata": {
        "id": "xQvHaWbS56ev"
      },
      "execution_count": null,
      "outputs": []
    },
    {
      "cell_type": "code",
      "source": [
        "import pandas\n",
        "from keras.models import Sequential\n",
        "from keras.layers import Dense\n",
        "from keras.wrappers.scikit_learn import KerasClassifier\n",
        "from keras.utils import np_utils\n",
        "from sklearn.model_selection import cross_val_score\n",
        "from sklearn.model_selection import KFold\n",
        "from sklearn.preprocessing import LabelEncoder\n",
        "from sklearn.pipeline import Pipeline\n",
        "\n",
        "encoder = LabelEncoder()\n",
        "encoder.fit(y_train)\n",
        "y_train = encoder.transform(y_train)\n",
        "# convert integers to dummy variables (i.e. one hot encoded)\n",
        "y_train = np_utils.to_categorical(y_train)\n",
        "print(X_train.shape,y_train.shape)\n",
        "\n",
        "encoder.fit(y_test)\n",
        "y_test = encoder.transform(y_test)\n",
        "# convert integers to dummy variables (i.e. one hot encoded)\n",
        "y_test = np_utils.to_categorical(y_test)"
      ],
      "metadata": {
        "colab": {
          "base_uri": "https://localhost:8080/"
        },
        "id": "4Uz2S7pnHJwd",
        "outputId": "ce522e60-34b0-4a98-eba0-e7251fe87983"
      },
      "execution_count": null,
      "outputs": [
        {
          "output_type": "stream",
          "name": "stdout",
          "text": [
            "(3180, 2600) (3180, 8)\n"
          ]
        }
      ]
    },
    {
      "cell_type": "code",
      "source": [
        "cnnhistory=model.fit(X_train, y_train, batch_size=16, epochs=100, validation_data=(X_test, y_test))"
      ],
      "metadata": {
        "colab": {
          "base_uri": "https://localhost:8080/"
        },
        "id": "710Zdl675G_D",
        "outputId": "731da065-e7ea-46d1-a151-f1e3c98338c4"
      },
      "execution_count": null,
      "outputs": [
        {
          "output_type": "stream",
          "name": "stdout",
          "text": [
            "Epoch 1/100\n",
            "199/199 [==============================] - 5s 19ms/step - loss: 15.6190 - accuracy: 0.2198 - val_loss: 10.1780 - val_accuracy: 0.2330\n",
            "Epoch 2/100\n",
            "199/199 [==============================] - 3s 17ms/step - loss: 5.8008 - accuracy: 0.3893 - val_loss: 3.4697 - val_accuracy: 0.3745\n",
            "Epoch 3/100\n",
            "199/199 [==============================] - 2s 11ms/step - loss: 2.7555 - accuracy: 0.4789 - val_loss: 1.2466 - val_accuracy: 0.5557\n",
            "Epoch 4/100\n",
            "199/199 [==============================] - 2s 11ms/step - loss: 1.5047 - accuracy: 0.5604 - val_loss: 1.0246 - val_accuracy: 0.6698\n",
            "Epoch 5/100\n",
            "199/199 [==============================] - 2s 9ms/step - loss: 1.1234 - accuracy: 0.6453 - val_loss: 0.9818 - val_accuracy: 0.6745\n",
            "Epoch 6/100\n",
            "199/199 [==============================] - 2s 9ms/step - loss: 0.9557 - accuracy: 0.6830 - val_loss: 0.9660 - val_accuracy: 0.6887\n",
            "Epoch 7/100\n",
            "199/199 [==============================] - 2s 11ms/step - loss: 0.8675 - accuracy: 0.7204 - val_loss: 0.8428 - val_accuracy: 0.7321\n",
            "Epoch 8/100\n",
            "199/199 [==============================] - 2s 11ms/step - loss: 0.8101 - accuracy: 0.7415 - val_loss: 0.8158 - val_accuracy: 0.7142\n",
            "Epoch 9/100\n",
            "199/199 [==============================] - 2s 11ms/step - loss: 0.7282 - accuracy: 0.7557 - val_loss: 0.8217 - val_accuracy: 0.7198\n",
            "Epoch 10/100\n",
            "199/199 [==============================] - 2s 9ms/step - loss: 0.6977 - accuracy: 0.7701 - val_loss: 0.7835 - val_accuracy: 0.7349\n",
            "Epoch 11/100\n",
            "199/199 [==============================] - 2s 9ms/step - loss: 0.6530 - accuracy: 0.7774 - val_loss: 0.8134 - val_accuracy: 0.7226\n",
            "Epoch 12/100\n",
            "199/199 [==============================] - 2s 9ms/step - loss: 0.6264 - accuracy: 0.7874 - val_loss: 0.8409 - val_accuracy: 0.7377\n",
            "Epoch 13/100\n",
            "199/199 [==============================] - 2s 9ms/step - loss: 0.5871 - accuracy: 0.7969 - val_loss: 0.7013 - val_accuracy: 0.7679\n",
            "Epoch 14/100\n",
            "199/199 [==============================] - 2s 9ms/step - loss: 0.5494 - accuracy: 0.8148 - val_loss: 0.7388 - val_accuracy: 0.7594\n",
            "Epoch 15/100\n",
            "199/199 [==============================] - 2s 10ms/step - loss: 0.5385 - accuracy: 0.8173 - val_loss: 0.6939 - val_accuracy: 0.7689\n",
            "Epoch 16/100\n",
            "199/199 [==============================] - 2s 10ms/step - loss: 0.5021 - accuracy: 0.8289 - val_loss: 0.6953 - val_accuracy: 0.7840\n",
            "Epoch 17/100\n",
            "199/199 [==============================] - 2s 9ms/step - loss: 0.4861 - accuracy: 0.8289 - val_loss: 0.6717 - val_accuracy: 0.7764\n",
            "Epoch 18/100\n",
            "199/199 [==============================] - 2s 9ms/step - loss: 0.4688 - accuracy: 0.8412 - val_loss: 0.8356 - val_accuracy: 0.7358\n",
            "Epoch 19/100\n",
            "199/199 [==============================] - 2s 9ms/step - loss: 0.4517 - accuracy: 0.8487 - val_loss: 0.7308 - val_accuracy: 0.7642\n",
            "Epoch 20/100\n",
            "199/199 [==============================] - 2s 9ms/step - loss: 0.4455 - accuracy: 0.8437 - val_loss: 0.6628 - val_accuracy: 0.7858\n",
            "Epoch 21/100\n",
            "199/199 [==============================] - 2s 9ms/step - loss: 0.4301 - accuracy: 0.8497 - val_loss: 0.7145 - val_accuracy: 0.7821\n",
            "Epoch 22/100\n",
            "199/199 [==============================] - 2s 9ms/step - loss: 0.3980 - accuracy: 0.8651 - val_loss: 0.6598 - val_accuracy: 0.7849\n",
            "Epoch 23/100\n",
            "199/199 [==============================] - 2s 10ms/step - loss: 0.4065 - accuracy: 0.8604 - val_loss: 0.6480 - val_accuracy: 0.7811\n",
            "Epoch 24/100\n",
            "199/199 [==============================] - 2s 10ms/step - loss: 0.3717 - accuracy: 0.8698 - val_loss: 0.7225 - val_accuracy: 0.7792\n",
            "Epoch 25/100\n",
            "199/199 [==============================] - 2s 9ms/step - loss: 0.3508 - accuracy: 0.8796 - val_loss: 0.6697 - val_accuracy: 0.7943\n",
            "Epoch 26/100\n",
            "199/199 [==============================] - 2s 9ms/step - loss: 0.3605 - accuracy: 0.8761 - val_loss: 0.6105 - val_accuracy: 0.8075\n",
            "Epoch 27/100\n",
            "199/199 [==============================] - 2s 9ms/step - loss: 0.3355 - accuracy: 0.8846 - val_loss: 0.6628 - val_accuracy: 0.7925\n",
            "Epoch 28/100\n",
            "199/199 [==============================] - 2s 9ms/step - loss: 0.3322 - accuracy: 0.8912 - val_loss: 0.6906 - val_accuracy: 0.7821\n",
            "Epoch 29/100\n",
            "199/199 [==============================] - 2s 9ms/step - loss: 0.3236 - accuracy: 0.8934 - val_loss: 0.6884 - val_accuracy: 0.7802\n",
            "Epoch 30/100\n",
            "199/199 [==============================] - 2s 10ms/step - loss: 0.2932 - accuracy: 0.8978 - val_loss: 0.6941 - val_accuracy: 0.7811\n",
            "Epoch 31/100\n",
            "199/199 [==============================] - 2s 10ms/step - loss: 0.3017 - accuracy: 0.8959 - val_loss: 0.6675 - val_accuracy: 0.7906\n",
            "Epoch 32/100\n",
            "199/199 [==============================] - 2s 9ms/step - loss: 0.2812 - accuracy: 0.9041 - val_loss: 0.6394 - val_accuracy: 0.7981\n",
            "Epoch 33/100\n",
            "199/199 [==============================] - 2s 9ms/step - loss: 0.2707 - accuracy: 0.9053 - val_loss: 0.7060 - val_accuracy: 0.7953\n",
            "Epoch 34/100\n",
            "199/199 [==============================] - 2s 9ms/step - loss: 0.2757 - accuracy: 0.9082 - val_loss: 0.6918 - val_accuracy: 0.7896\n",
            "Epoch 35/100\n",
            "199/199 [==============================] - 2s 9ms/step - loss: 0.2544 - accuracy: 0.9138 - val_loss: 0.7016 - val_accuracy: 0.7925\n",
            "Epoch 36/100\n",
            "199/199 [==============================] - 2s 9ms/step - loss: 0.2526 - accuracy: 0.9170 - val_loss: 0.7574 - val_accuracy: 0.7840\n",
            "Epoch 37/100\n",
            "199/199 [==============================] - 2s 9ms/step - loss: 0.2446 - accuracy: 0.9151 - val_loss: 0.7228 - val_accuracy: 0.8000\n",
            "Epoch 38/100\n",
            "199/199 [==============================] - 2s 10ms/step - loss: 0.2312 - accuracy: 0.9208 - val_loss: 0.6672 - val_accuracy: 0.8094\n",
            "Epoch 39/100\n",
            "199/199 [==============================] - 2s 10ms/step - loss: 0.2187 - accuracy: 0.9223 - val_loss: 0.7192 - val_accuracy: 0.8038\n",
            "Epoch 40/100\n",
            "199/199 [==============================] - 2s 9ms/step - loss: 0.2197 - accuracy: 0.9274 - val_loss: 0.7003 - val_accuracy: 0.7953\n",
            "Epoch 41/100\n",
            "199/199 [==============================] - 2s 9ms/step - loss: 0.2178 - accuracy: 0.9226 - val_loss: 0.6628 - val_accuracy: 0.8066\n",
            "Epoch 42/100\n",
            "199/199 [==============================] - 2s 9ms/step - loss: 0.2008 - accuracy: 0.9321 - val_loss: 0.7418 - val_accuracy: 0.8009\n",
            "Epoch 43/100\n",
            "199/199 [==============================] - 2s 9ms/step - loss: 0.1966 - accuracy: 0.9327 - val_loss: 0.7184 - val_accuracy: 0.7981\n",
            "Epoch 44/100\n",
            "199/199 [==============================] - 2s 9ms/step - loss: 0.2016 - accuracy: 0.9299 - val_loss: 0.6822 - val_accuracy: 0.8132\n",
            "Epoch 45/100\n",
            "199/199 [==============================] - 2s 10ms/step - loss: 0.1763 - accuracy: 0.9387 - val_loss: 0.7392 - val_accuracy: 0.8094\n",
            "Epoch 46/100\n",
            "199/199 [==============================] - 3s 17ms/step - loss: 0.1657 - accuracy: 0.9462 - val_loss: 0.7733 - val_accuracy: 0.7981\n",
            "Epoch 47/100\n",
            "199/199 [==============================] - 2s 11ms/step - loss: 0.1738 - accuracy: 0.9425 - val_loss: 0.7200 - val_accuracy: 0.8047\n",
            "Epoch 48/100\n",
            "199/199 [==============================] - 2s 9ms/step - loss: 0.1689 - accuracy: 0.9412 - val_loss: 0.8008 - val_accuracy: 0.8009\n",
            "Epoch 49/100\n",
            "199/199 [==============================] - 2s 9ms/step - loss: 0.1560 - accuracy: 0.9456 - val_loss: 0.8084 - val_accuracy: 0.7943\n",
            "Epoch 50/100\n",
            "199/199 [==============================] - 2s 9ms/step - loss: 0.1526 - accuracy: 0.9421 - val_loss: 0.7557 - val_accuracy: 0.8009\n",
            "Epoch 51/100\n",
            "199/199 [==============================] - 2s 9ms/step - loss: 0.1507 - accuracy: 0.9453 - val_loss: 0.7905 - val_accuracy: 0.7962\n",
            "Epoch 52/100\n",
            "199/199 [==============================] - 2s 9ms/step - loss: 0.1442 - accuracy: 0.9503 - val_loss: 0.7602 - val_accuracy: 0.8075\n",
            "Epoch 53/100\n",
            "199/199 [==============================] - 2s 10ms/step - loss: 0.1244 - accuracy: 0.9582 - val_loss: 0.8863 - val_accuracy: 0.7962\n",
            "Epoch 54/100\n",
            "199/199 [==============================] - 2s 10ms/step - loss: 0.1271 - accuracy: 0.9528 - val_loss: 0.8422 - val_accuracy: 0.7962\n",
            "Epoch 55/100\n",
            "199/199 [==============================] - 2s 9ms/step - loss: 0.1340 - accuracy: 0.9547 - val_loss: 0.7530 - val_accuracy: 0.8113\n",
            "Epoch 56/100\n",
            "199/199 [==============================] - 2s 9ms/step - loss: 0.1302 - accuracy: 0.9579 - val_loss: 0.7489 - val_accuracy: 0.8104\n",
            "Epoch 57/100\n",
            "199/199 [==============================] - 2s 9ms/step - loss: 0.1231 - accuracy: 0.9604 - val_loss: 0.7719 - val_accuracy: 0.8226\n",
            "Epoch 58/100\n",
            "199/199 [==============================] - 2s 9ms/step - loss: 0.1164 - accuracy: 0.9629 - val_loss: 0.7767 - val_accuracy: 0.8038\n",
            "Epoch 59/100\n",
            "199/199 [==============================] - 2s 9ms/step - loss: 0.1175 - accuracy: 0.9607 - val_loss: 0.8072 - val_accuracy: 0.8057\n",
            "Epoch 60/100\n",
            "199/199 [==============================] - 3s 14ms/step - loss: 0.1059 - accuracy: 0.9619 - val_loss: 0.8205 - val_accuracy: 0.8170\n",
            "Epoch 61/100\n",
            "199/199 [==============================] - 2s 10ms/step - loss: 0.1024 - accuracy: 0.9645 - val_loss: 0.8683 - val_accuracy: 0.8019\n",
            "Epoch 62/100\n",
            "199/199 [==============================] - 2s 10ms/step - loss: 0.1038 - accuracy: 0.9626 - val_loss: 0.9370 - val_accuracy: 0.8104\n",
            "Epoch 63/100\n",
            "199/199 [==============================] - 2s 9ms/step - loss: 0.0966 - accuracy: 0.9701 - val_loss: 0.8415 - val_accuracy: 0.8057\n",
            "Epoch 64/100\n",
            "199/199 [==============================] - 2s 9ms/step - loss: 0.0880 - accuracy: 0.9682 - val_loss: 0.9518 - val_accuracy: 0.8038\n",
            "Epoch 65/100\n",
            "199/199 [==============================] - 2s 9ms/step - loss: 0.0926 - accuracy: 0.9642 - val_loss: 0.8310 - val_accuracy: 0.8132\n",
            "Epoch 66/100\n",
            "199/199 [==============================] - 2s 9ms/step - loss: 0.0947 - accuracy: 0.9686 - val_loss: 0.9141 - val_accuracy: 0.7981\n",
            "Epoch 67/100\n",
            "199/199 [==============================] - 2s 11ms/step - loss: 0.0831 - accuracy: 0.9714 - val_loss: 0.9136 - val_accuracy: 0.8047\n",
            "Epoch 68/100\n",
            "199/199 [==============================] - 2s 10ms/step - loss: 0.0760 - accuracy: 0.9717 - val_loss: 0.9858 - val_accuracy: 0.8123\n",
            "Epoch 69/100\n",
            "199/199 [==============================] - 2s 10ms/step - loss: 0.0758 - accuracy: 0.9764 - val_loss: 0.8852 - val_accuracy: 0.8208\n",
            "Epoch 70/100\n",
            "199/199 [==============================] - 2s 9ms/step - loss: 0.0798 - accuracy: 0.9723 - val_loss: 0.9264 - val_accuracy: 0.8208\n",
            "Epoch 71/100\n",
            "199/199 [==============================] - 2s 9ms/step - loss: 0.0718 - accuracy: 0.9748 - val_loss: 0.9494 - val_accuracy: 0.8009\n",
            "Epoch 72/100\n",
            "199/199 [==============================] - 2s 9ms/step - loss: 0.0665 - accuracy: 0.9748 - val_loss: 0.9842 - val_accuracy: 0.8179\n",
            "Epoch 73/100\n",
            "199/199 [==============================] - 2s 9ms/step - loss: 0.0630 - accuracy: 0.9783 - val_loss: 0.9576 - val_accuracy: 0.8094\n",
            "Epoch 74/100\n",
            "199/199 [==============================] - 2s 9ms/step - loss: 0.0726 - accuracy: 0.9745 - val_loss: 0.9416 - val_accuracy: 0.8132\n",
            "Epoch 75/100\n",
            "199/199 [==============================] - 2s 10ms/step - loss: 0.0609 - accuracy: 0.9770 - val_loss: 1.0044 - val_accuracy: 0.8000\n",
            "Epoch 76/100\n",
            "199/199 [==============================] - 2s 10ms/step - loss: 0.0582 - accuracy: 0.9792 - val_loss: 0.9938 - val_accuracy: 0.8066\n",
            "Epoch 77/100\n",
            "199/199 [==============================] - 2s 9ms/step - loss: 0.0563 - accuracy: 0.9808 - val_loss: 0.9880 - val_accuracy: 0.8142\n",
            "Epoch 78/100\n",
            "199/199 [==============================] - 2s 9ms/step - loss: 0.0494 - accuracy: 0.9843 - val_loss: 1.0646 - val_accuracy: 0.8094\n",
            "Epoch 79/100\n",
            "199/199 [==============================] - 2s 9ms/step - loss: 0.0665 - accuracy: 0.9761 - val_loss: 1.1007 - val_accuracy: 0.8038\n",
            "Epoch 80/100\n",
            "199/199 [==============================] - 2s 9ms/step - loss: 0.0534 - accuracy: 0.9824 - val_loss: 1.0003 - val_accuracy: 0.8113\n",
            "Epoch 81/100\n",
            "199/199 [==============================] - 2s 9ms/step - loss: 0.0467 - accuracy: 0.9830 - val_loss: 1.0852 - val_accuracy: 0.8245\n",
            "Epoch 82/100\n",
            "199/199 [==============================] - 2s 9ms/step - loss: 0.0473 - accuracy: 0.9868 - val_loss: 1.1042 - val_accuracy: 0.8123\n",
            "Epoch 83/100\n",
            "199/199 [==============================] - 2s 10ms/step - loss: 0.0481 - accuracy: 0.9811 - val_loss: 1.0907 - val_accuracy: 0.8132\n",
            "Epoch 84/100\n",
            "199/199 [==============================] - 2s 11ms/step - loss: 0.0485 - accuracy: 0.9833 - val_loss: 1.0195 - val_accuracy: 0.8075\n",
            "Epoch 85/100\n",
            "199/199 [==============================] - 2s 9ms/step - loss: 0.0419 - accuracy: 0.9843 - val_loss: 1.1500 - val_accuracy: 0.8019\n",
            "Epoch 86/100\n",
            "199/199 [==============================] - 2s 9ms/step - loss: 0.0374 - accuracy: 0.9858 - val_loss: 1.2226 - val_accuracy: 0.8123\n",
            "Epoch 87/100\n",
            "199/199 [==============================] - 2s 9ms/step - loss: 0.0410 - accuracy: 0.9871 - val_loss: 1.1773 - val_accuracy: 0.8132\n",
            "Epoch 88/100\n",
            "199/199 [==============================] - 2s 9ms/step - loss: 0.0386 - accuracy: 0.9865 - val_loss: 1.1056 - val_accuracy: 0.8170\n",
            "Epoch 89/100\n",
            "199/199 [==============================] - 2s 9ms/step - loss: 0.0450 - accuracy: 0.9821 - val_loss: 1.1896 - val_accuracy: 0.8019\n",
            "Epoch 90/100\n",
            "199/199 [==============================] - 2s 10ms/step - loss: 0.0380 - accuracy: 0.9871 - val_loss: 1.0914 - val_accuracy: 0.8274\n",
            "Epoch 91/100\n",
            "199/199 [==============================] - 2s 10ms/step - loss: 0.0434 - accuracy: 0.9874 - val_loss: 1.0875 - val_accuracy: 0.8113\n",
            "Epoch 92/100\n",
            "199/199 [==============================] - 2s 10ms/step - loss: 0.0368 - accuracy: 0.9877 - val_loss: 1.1432 - val_accuracy: 0.8189\n",
            "Epoch 93/100\n",
            "199/199 [==============================] - 2s 9ms/step - loss: 0.0327 - accuracy: 0.9887 - val_loss: 1.1521 - val_accuracy: 0.8160\n",
            "Epoch 94/100\n",
            "199/199 [==============================] - 2s 9ms/step - loss: 0.0343 - accuracy: 0.9868 - val_loss: 1.1734 - val_accuracy: 0.8142\n",
            "Epoch 95/100\n",
            "199/199 [==============================] - 2s 9ms/step - loss: 0.0318 - accuracy: 0.9874 - val_loss: 1.1955 - val_accuracy: 0.8170\n",
            "Epoch 96/100\n",
            "199/199 [==============================] - 2s 9ms/step - loss: 0.0347 - accuracy: 0.9877 - val_loss: 1.1453 - val_accuracy: 0.8264\n",
            "Epoch 97/100\n",
            "199/199 [==============================] - 2s 9ms/step - loss: 0.0236 - accuracy: 0.9921 - val_loss: 1.1972 - val_accuracy: 0.8104\n",
            "Epoch 98/100\n",
            "199/199 [==============================] - 2s 10ms/step - loss: 0.0289 - accuracy: 0.9881 - val_loss: 1.1923 - val_accuracy: 0.8151\n",
            "Epoch 99/100\n",
            "199/199 [==============================] - 2s 10ms/step - loss: 0.0271 - accuracy: 0.9909 - val_loss: 1.2523 - val_accuracy: 0.8142\n",
            "Epoch 100/100\n",
            "199/199 [==============================] - 2s 10ms/step - loss: 0.0285 - accuracy: 0.9893 - val_loss: 1.2308 - val_accuracy: 0.8151\n"
          ]
        }
      ]
    },
    {
      "cell_type": "code",
      "source": [
        "def pred_from_file(file_name):\n",
        "    with soundfile.SoundFile(file_name) as sound_file:\n",
        "      X,sample_rate = librosa.load(file_name)\n",
        "      # X = sound_file.read(dtype=\"float32\")\n",
        "      X  = X[:,0] if len(X.shape)>1 else X\n",
        "      normalize(X)\n",
        "      # sample_rate = sound_file.samplerate\n",
        "\n",
        "#Prepare the file to the required length\n",
        "      if(len(X)>3*sample_rate):\n",
        "        X = trim_to_3sec(X,sample_rate)\n",
        "      elif(len(X)<3*sample_rate):\n",
        "        X = pad_to_3sec(X,sample_rate)\n",
        "  #Extract the feature from the raw audio\n",
        "    mfccs = (librosa.feature.mfcc(y=X, sr=sample_rate, n_mfcc=20).T).flatten()\n",
        "    X = np.array([mfccs])\n",
        "    return(model.predict(X))"
      ],
      "metadata": {
        "id": "vXuL-eisDZWS"
      },
      "execution_count": null,
      "outputs": []
    },
    {
      "cell_type": "code",
      "source": [
        "pred_from_file(\"/content/drive/MyDrive/Data/Actor_01/03-01-01-01-01-01-01.wav\")"
      ],
      "metadata": {
        "colab": {
          "base_uri": "https://localhost:8080/"
        },
        "id": "P2opk4UeF65j",
        "outputId": "f9f95242-ab9c-47dd-f6ad-720ba7420c49"
      },
      "execution_count": null,
      "outputs": [
        {
          "output_type": "stream",
          "name": "stdout",
          "text": [
            "1/1 [==============================] - 0s 103ms/step\n"
          ]
        },
        {
          "output_type": "execute_result",
          "data": {
            "text/plain": [
              "array([[3.3120447e-01, 1.2763744e-04, 6.4874405e-01, 5.3969452e-06,\n",
              "        1.5990712e-03, 1.3015400e-02, 1.9356421e-05, 5.2845976e-03]],\n",
              "      dtype=float32)"
            ]
          },
          "metadata": {},
          "execution_count": 26
        }
      ]
    },
    {
      "cell_type": "code",
      "source": [
        "def silence_suppression(X):\n",
        "  for i in range(len(X)):\n",
        "    if(X[i]!=0):\n",
        "      break\n",
        "  X = X[i:]\n",
        "\n",
        "  for i in range(len(X)-1,0,-1):\n",
        "    if(X[i]!=0):\n",
        "      break\n",
        "  X = X[:i]\n",
        "\n",
        "  return(X)\n",
        "\n",
        "def pred_from_large_file(file_name):\n",
        "    with soundfile.SoundFile(file_name) as sound_file:\n",
        "      X,sample_rate = librosa.load(file_name)\n",
        "      X  = X[:,0] if len(X.shape)>1 else X\n",
        "\n",
        "      X = silence_suppression(X)\n",
        "      if(len(X)%(3*sample_rate)!=0):\n",
        "        requ_padding = 3*sample_rate - len(X)%(3*sample_rate)\n",
        "        X = (np.append(X,np.zeros(requ_padding)))\n",
        "\n",
        "      data_list = []\n",
        "      for i in range(0,len(X),3*sample_rate):\n",
        "        data_list.append(X[i:i+3*sample_rate+1])\n",
        "\n",
        "      #mfccs = np.mean(librosa.feature.mfcc(y=X, sr=sample_rate, n_mfcc=20).T, axis=0)\n",
        "      X_data = np.array([(librosa.feature.mfcc(y=i, sr=sample_rate, n_mfcc=20).T).flatten() for i in data_list])\n",
        "      print(X_data[0].shape)\n",
        "      return(model.predict(X_data))"
      ],
      "metadata": {
        "id": "HUX98_xPPdVm"
      },
      "execution_count": null,
      "outputs": []
    },
    {
      "cell_type": "code",
      "source": [
        "Filepath = \"/content/drive/MyDrive/laptop.wav\"\n",
        "\n",
        "data = pred_from_large_file(Filepath)"
      ],
      "metadata": {
        "id": "N9BGVWFnGcEp",
        "colab": {
          "base_uri": "https://localhost:8080/"
        },
        "outputId": "b698569d-250d-4fb9-b68e-651184ea3859"
      },
      "execution_count": null,
      "outputs": [
        {
          "output_type": "stream",
          "name": "stdout",
          "text": [
            "(2600,)\n",
            "11/11 [==============================] - 0s 5ms/step\n"
          ]
        }
      ]
    },
    {
      "cell_type": "code",
      "source": [
        "import matplotlib.pyplot as plt\n",
        "plt.scatter(np.argmax(data,axis=1),range(len(data)))"
      ],
      "metadata": {
        "id": "D0ZYvX4chhPv",
        "colab": {
          "base_uri": "https://localhost:8080/",
          "height": 449
        },
        "outputId": "165263dd-a5cd-41b0-e930-638e902f22a4"
      },
      "execution_count": null,
      "outputs": [
        {
          "output_type": "execute_result",
          "data": {
            "text/plain": [
              "<matplotlib.collections.PathCollection at 0x7f7d3004f3d0>"
            ]
          },
          "metadata": {},
          "execution_count": 29
        },
        {
          "output_type": "display_data",
          "data": {
            "text/plain": [
              "<Figure size 640x480 with 1 Axes>"
            ],
            "image/png": "[encoded data removed]"
          },
          "metadata": {}
        }
      ]
    },
    {
      "cell_type": "code",
      "source": [
        "model.save('Best_model')"
      ],
      "metadata": {
        "colab": {
          "base_uri": "https://localhost:8080/"
        },
        "id": "XIgc3_h26ASy",
        "outputId": "ccb2b543-dd73-4106-d147-461eeb09c2dc"
      },
      "execution_count": null,
      "outputs": [
        {
          "output_type": "stream",
          "name": "stderr",
          "text": [
            "WARNING:absl:Found untraced functions such as _jit_compiled_convolution_op, _jit_compiled_convolution_op while saving (showing 2 of 2). These functions will not be directly callable after loading.\n"
          ]
        }
      ]
    },
    {
      "cell_type": "code",
      "source": [
        "new_model = keras.models.load_model('Best_model')"
      ],
      "metadata": {
        "id": "C5rc0fBM-zxc"
      },
      "execution_count": null,
      "outputs": []
    },
    {
      "cell_type": "code",
      "source": [
        "def silence_suppression(X):\n",
        "  for i in range(len(X)):\n",
        "    if(X[i]!=0):\n",
        "      break\n",
        "  X = X[i:]\n",
        "\n",
        "  for i in range(len(X)-1,0,-1):\n",
        "    if(X[i]!=0):\n",
        "      break\n",
        "  X = X[:i]\n",
        "\n",
        "  return(X)\n",
        "\n",
        "def pred_from_large_file(file_name):\n",
        "    with soundfile.SoundFile(file_name) as sound_file:\n",
        "      X,sample_rate = librosa.load(file_name)\n",
        "      X  = X[:,0] if len(X.shape)>1 else X\n",
        "\n",
        "      X = silence_suppression(X)\n",
        "      if(len(X)%(3*sample_rate)!=0):\n",
        "        requ_padding = 3*sample_rate - len(X)%(3*sample_rate)\n",
        "        X = (np.append(X,np.zeros(requ_padding)))\n",
        "\n",
        "      data_list = []\n",
        "      for i in range(0,len(X),3*sample_rate):\n",
        "        data_list.append(X[i:i+3*sample_rate+1])\n",
        "\n",
        "      #mfccs = np.mean(librosa.feature.mfcc(y=X, sr=sample_rate, n_mfcc=20).T, axis=0)\n",
        "      X_data = np.array([(librosa.feature.mfcc(y=i, sr=sample_rate, n_mfcc=20).T).flatten() for i in data_list])\n",
        "      print(X_data[0].shape)\n",
        "      return(new_model.predict(X_data))"
      ],
      "metadata": {
        "id": "Mn8NZuiWM6SH"
      },
      "execution_count": null,
      "outputs": []
    },
    {
      "cell_type": "code",
      "source": [
        "Filepath = \"/content/drive/MyDrive/TestFile.wav\"\n",
        "\n",
        "data = pred_from_large_file(Filepath)"
      ],
      "metadata": {
        "colab": {
          "base_uri": "https://localhost:8080/"
        },
        "id": "nbXPZy7MNeUc",
        "outputId": "e267a72f-d3be-4ad8-bf86-ea25048784ad"
      },
      "execution_count": null,
      "outputs": [
        {
          "output_type": "stream",
          "name": "stdout",
          "text": [
            "(2600,)\n",
            "3/3 [==============================] - 0s 8ms/step\n"
          ]
        }
      ]
    },
    {
      "cell_type": "code",
      "source": [
        "for i in (data):\n",
        "  print(np.argmax(i))"
      ],
      "metadata": {
        "colab": {
          "base_uri": "https://localhost:8080/"
        },
        "id": "0Fx4zlVZNhNL",
        "outputId": "9f164b17-c3f9-4d57-eec0-c915eab49479"
      },
      "execution_count": null,
      "outputs": [
        {
          "output_type": "stream",
          "name": "stdout",
          "text": [
            "3\n",
            "3\n",
            "3\n",
            "5\n",
            "5\n",
            "5\n",
            "6\n",
            "3\n",
            "5\n",
            "3\n",
            "5\n",
            "4\n",
            "6\n",
            "3\n",
            "3\n",
            "3\n",
            "4\n",
            "5\n",
            "3\n",
            "6\n",
            "5\n",
            "4\n",
            "5\n",
            "5\n",
            "2\n",
            "3\n",
            "3\n",
            "3\n",
            "5\n",
            "3\n",
            "5\n",
            "3\n",
            "3\n",
            "4\n",
            "5\n",
            "5\n",
            "3\n",
            "5\n",
            "3\n",
            "5\n",
            "3\n",
            "4\n",
            "3\n",
            "3\n",
            "4\n",
            "6\n",
            "5\n",
            "3\n",
            "3\n",
            "6\n",
            "6\n",
            "5\n",
            "4\n",
            "4\n",
            "5\n",
            "3\n",
            "5\n",
            "5\n",
            "3\n",
            "6\n",
            "5\n",
            "5\n",
            "6\n",
            "5\n",
            "4\n",
            "4\n",
            "5\n",
            "2\n",
            "4\n",
            "4\n",
            "4\n",
            "4\n",
            "5\n",
            "6\n",
            "4\n",
            "5\n",
            "3\n",
            "3\n",
            "3\n",
            "3\n",
            "5\n"
          ]
        }
      ]
    },
    {
      "cell_type": "code",
      "source": [],
      "metadata": {
        "id": "qtpFWbfxpFkK"
      },
      "execution_count": null,
      "outputs": []
    }
  ],
  "metadata": {
    "accelerator": "GPU",
    "colab": {
      "provenance": []
    },
    "kernelspec": {
      "display_name": "Python 3",
      "name": "python3"
    },
    "language_info": {
      "name": "python"
    }
  },
  "nbformat": 4,
  "nbformat_minor": 0
}